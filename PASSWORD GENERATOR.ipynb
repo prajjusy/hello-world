{
 "cells": [
  {
   "cell_type": "code",
   "execution_count": 8,
   "metadata": {},
   "outputs": [
    {
     "name": "stdout",
     "output_type": "stream",
     "text": [
      "f^R7h6szWm9|oSa$w*jh9R\n"
     ]
    }
   ],
   "source": [
    "import random, string\n",
    "\n",
    "def password(length,num = False,strength='weak'):\n",
    "    \"\"\"length of password, if you want a number,\n",
    "    and strength(weak,strong,very)\"\"\"\n",
    "    lower = string.ascii_lowercase\n",
    "    upper = string.ascii_uppercase\n",
    "    letters = lower + upper\n",
    "    dig = string.digits\n",
    "    punct = string.punctuation\n",
    "    pwd = ''\n",
    "    if strength == 'weak':\n",
    "        if num:\n",
    "            length -= 2\n",
    "            for i in range(2):\n",
    "                pwd += random.choice(dig)\n",
    "        for i in range(length):\n",
    "            pwd += random.choice(lower)\n",
    "    elif strength == 'strong':\n",
    "        if num:\n",
    "            length -= 2\n",
    "            for i in range(2):\n",
    "                pwd += random.choice(dig)\n",
    "        for i in range(length):\n",
    "            pwd += random.choice(letters)\n",
    "    elif strength == 'very':\n",
    "        ran = random.randint(2,4)\n",
    "        if num:\n",
    "            length -= ran\n",
    "            for i in range(ran):\n",
    "                pwd += random.choice(dig)\n",
    "        length -= ran\n",
    "        for i in range(ran):\n",
    "            pwd += random.choice(punct)\n",
    "        for i in range(length):\n",
    "            pwd += random.choice(letters)\n",
    "    pwd = list(pwd)\n",
    "    random.shuffle(pwd)\n",
    "    print(''.join(pwd))\n",
    "\n",
    "password(22,num=True,strength='very')"
   ]
  },
  {
   "cell_type": "code",
   "execution_count": null,
   "metadata": {},
   "outputs": [],
   "source": []
  },
  {
   "cell_type": "code",
   "execution_count": null,
   "metadata": {},
   "outputs": [],
   "source": []
  }
 ],
 "metadata": {
  "kernelspec": {
   "display_name": "Python 3",
   "language": "python",
   "name": "python3"
  },
  "language_info": {
   "codemirror_mode": {
    "name": "ipython",
    "version": 3
   },
   "file_extension": ".py",
   "mimetype": "text/x-python",
   "name": "python",
   "nbconvert_exporter": "python",
   "pygments_lexer": "ipython3",
   "version": "3.7.4"
  }
 },
 "nbformat": 4,
 "nbformat_minor": 4
}
